{
  "nbformat": 4,
  "nbformat_minor": 0,
  "metadata": {
    "colab": {
      "provenance": [],
      "authorship_tag": "ABX9TyO5of/ZZbFZAkljjBvRi9Yg",
      "include_colab_link": true
    },
    "kernelspec": {
      "name": "python3",
      "display_name": "Python 3"
    },
    "language_info": {
      "name": "python"
    }
  },
  "cells": [
    {
      "cell_type": "markdown",
      "metadata": {
        "id": "view-in-github",
        "colab_type": "text"
      },
      "source": [
        "<a href=\"https://colab.research.google.com/github/DornalaSandeep/Bharat-Intern/blob/main/Task2.ipynb\" target=\"_parent\"><img src=\"https://colab.research.google.com/assets/colab-badge.svg\" alt=\"Open In Colab\"/></a>"
      ]
    },
    {
      "cell_type": "code",
      "execution_count": null,
      "metadata": {
        "id": "8-Z3DuSTDcX1"
      },
      "outputs": [],
      "source": [
        "<!DOCTYPE html>\n",
        "<html lang=\"en\">\n",
        "<head>\n",
        "    <meta charset=\"UTF-8\">\n",
        "    <m<!DOCTYPE html>\n",
        "    <meta name=\"viewport\" content=\"width=device-width, initial-scale=1.0\">\n",
        "    <title>Weather App</title>\n",
        "    <link rel=\"stylesheet\" href=\"styles.css\">\n",
        "</head>\n",
        "<body>\n",
        "    <div class=\"container\">\n",
        "        <h1>Weather App</h1>\n",
        "        <input type=\"text\" id=\"locationInput\" placeholder=\"Enter a city\">\n",
        "        <button id=\"searchButton\">Search</button>\n",
        "        <div class=\"weather-info\">\n",
        "            <h2 id=\"location\"></h2>\n",
        "            <p id=\"temperature\"></p>\n",
        "            <p id=\"description\"></p>\n",
        "        </div>\n",
        "    </div>\n",
        "    <script src=\"script.js\"></script>\n",
        "</body>\n",
        "</html>"
      ]
    },
    {
      "cell_type": "code",
      "source": [
        "body {\n",
        "    font-family: Arial, sans-serif;\n",
        "    background-color: #f0f0f0;\n",
        "}\n",
        "\n",
        ".container {\n",
        "    max-width: 400px;\n",
        "    margin: 0 auto;\n",
        "    text-align: center;\n",
        "    padding: 20px;\n",
        "    background-color: rgba(255, 255, 255, 0.5); /* Set the background color to be transparent */\n",
        "    border-radius: 10px;\n",
        "    box-shadow: 0 0 10px rgba(0, 0, 0, 0.3); /* Adjust the alpha value here for the box shadow transparency */\n",
        "    margin-top: 105px;\n",
        "}\n",
        "\n",
        "h1 {\n",
        "    font-size: 24px;\n",
        "}\n",
        "\n",
        "input[type=\"text\"] {\n",
        "    width: 100%;\n",
        "    padding: 10px;\n",
        "    margin: 10px 0;\n",
        "    border: 1px solid #ccc;\n",
        "    border-radius: 5px;\n",
        "}\n",
        "\n",
        "button {\n",
        "    background-color: #007BFF;\n",
        "    color: #fff;\n",
        "    border: none;\n",
        "    padding: 10px 20px;\n",
        "    border-radius: 5px;\n",
        "    cursor: pointer;\n",
        "}\n",
        "\n",
        ".weather-info {\n",
        "    margin-top: 20px;\n",
        "}\n",
        "\n",
        "/* Add more styles as needed */\n",
        "body {\n",
        "    font-family: Arial, sans-serif;\n",
        "      /* background-color: #f0f0f0; */\n",
        "    background-image: url('clouds.jpg');\n",
        "    background-size: cover;\n",
        "    background-position: center;\n",
        "    background-repeat: no-repeat;\n",
        "    height: 100vh; /* Set the height to fill the viewport */\n",
        "    margin: 0; /* Remove default margin */\n",
        "    padding: 0;\n",
        "  }\n",
        ""
      ],
      "metadata": {
        "id": "b70mnLMND3KN"
      },
      "execution_count": null,
      "outputs": []
    },
    {
      "cell_type": "code",
      "source": [
        "const apiKey = '50c3560b385be314c0e6bd8fe9928156';\n",
        "const apiUrl = 'https://api.openweathermap.org/data/2.5/weather';\n",
        "\n",
        "const locationInput = document.getElementById('locationInput');\n",
        "const searchButton = document.getElementById('searchButton');\n",
        "const locationElement = document.getElementById('location');\n",
        "const temperatureElement = document.getElementById('temperature');\n",
        "const descriptionElement = document.getElementById('description');\n",
        "\n",
        "searchButton.addEventListener('click', () => {\n",
        "    const location = locationInput.value;\n",
        "    if (location) {\n",
        "        fetchWeather(location);\n",
        "    }\n",
        "});\n",
        "\n",
        "function fetchWeather(location) {\n",
        "    const url = `${apiUrl}?q=${location}&appid=${apiKey}&units=metric`;\n",
        "\n",
        "    fetch(url)\n",
        "        .then(response => response.json())\n",
        "        .then(data => {\n",
        "            locationElement.textContent = data.name;\n",
        "            temperatureElement.textContent = `${Math.round(data.main.temp)}°C`;\n",
        "            descriptionElement.textContent = data.weather[0].description;\n",
        "        })\n",
        "        .catch(error => {\n",
        "            console.error('Error fetching weather data:', error);\n",
        "        });\n",
        "}\n",
        "\n"
      ],
      "metadata": {
        "id": "Ef3PvWV7EERq"
      },
      "execution_count": null,
      "outputs": []
    }
  ]
}